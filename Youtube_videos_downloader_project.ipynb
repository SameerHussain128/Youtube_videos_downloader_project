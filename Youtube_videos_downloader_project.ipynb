{
  "nbformat": 4,
  "nbformat_minor": 0,
  "metadata": {
    "colab": {
      "provenance": []
    },
    "kernelspec": {
      "name": "python3",
      "display_name": "Python 3"
    },
    "language_info": {
      "name": "python"
    }
  },
  "cells": [
    {
      "cell_type": "code",
      "source": [
        "#!pip install yt-dlp"
      ],
      "metadata": {
        "colab": {
          "base_uri": "https://localhost:8080/"
        },
        "id": "_RU5lrJTJaye",
        "outputId": "c462ddad-811b-47c7-ab17-fbf45a0d6a0c"
      },
      "execution_count": 2,
      "outputs": [
        {
          "output_type": "stream",
          "name": "stdout",
          "text": [
            "Collecting yt-dlp\n",
            "  Downloading yt_dlp-2024.11.18-py3-none-any.whl.metadata (172 kB)\n",
            "\u001b[?25l     \u001b[90m━━━━━━━━━━━━━━━━━━━━━━━━━━━━━━━━━━━━━━━━\u001b[0m \u001b[32m0.0/172.1 kB\u001b[0m \u001b[31m?\u001b[0m eta \u001b[36m-:--:--\u001b[0m\r\u001b[2K     \u001b[90m━━━━━━━━━━━━━━━━━━━━━━━━━━━━━━━━━━━━━━━━\u001b[0m \u001b[32m172.1/172.1 kB\u001b[0m \u001b[31m7.3 MB/s\u001b[0m eta \u001b[36m0:00:00\u001b[0m\n",
            "\u001b[?25hDownloading yt_dlp-2024.11.18-py3-none-any.whl (3.2 MB)\n",
            "\u001b[?25l   \u001b[90m━━━━━━━━━━━━━━━━━━━━━━━━━━━━━━━━━━━━━━━━\u001b[0m \u001b[32m0.0/3.2 MB\u001b[0m \u001b[31m?\u001b[0m eta \u001b[36m-:--:--\u001b[0m\r\u001b[2K   \u001b[91m━━━━━━━━━━━━━━━━━━━━━━━━━━━━━━━━━━━━━━━\u001b[0m\u001b[91m╸\u001b[0m \u001b[32m3.2/3.2 MB\u001b[0m \u001b[31m97.7 MB/s\u001b[0m eta \u001b[36m0:00:01\u001b[0m\r\u001b[2K   \u001b[90m━━━━━━━━━━━━━━━━━━━━━━━━━━━━━━━━━━━━━━━━\u001b[0m \u001b[32m3.2/3.2 MB\u001b[0m \u001b[31m50.3 MB/s\u001b[0m eta \u001b[36m0:00:00\u001b[0m\n",
            "\u001b[?25hInstalling collected packages: yt-dlp\n",
            "Successfully installed yt-dlp-2024.11.18\n"
          ]
        }
      ]
    },
    {
      "cell_type": "code",
      "execution_count": 3,
      "metadata": {
        "id": "36vL0G53fw0g",
        "colab": {
          "base_uri": "https://localhost:8080/"
        },
        "outputId": "438aa9b6-31cd-4d95-bfef-c3d6af95b1e4"
      },
      "outputs": [
        {
          "output_type": "stream",
          "name": "stdout",
          "text": [
            "Enter youtube video URL: https://youtu.be/fdL3hQpikcY\n",
            "[youtube] Extracting URL: https://youtu.be/fdL3hQpikcY\n",
            "[youtube] fdL3hQpikcY: Downloading webpage\n",
            "[youtube] fdL3hQpikcY: Downloading ios player API JSON\n",
            "[youtube] fdL3hQpikcY: Downloading mweb player API JSON\n",
            "[youtube] fdL3hQpikcY: Downloading player 89dfc5b3\n",
            "[youtube] fdL3hQpikcY: Downloading m3u8 information\n",
            "[info] fdL3hQpikcY: Downloading 1 format(s): 244+251\n",
            "[download] Destination: 5 second ka comedy [fdL3hQpikcY].f244.webm\n",
            "[download] 100% of  193.54KiB in 00:00:00 at 474.04KiB/s \n",
            "[download] Destination: 5 second ka comedy [fdL3hQpikcY].f251.webm\n",
            "[download] 100% of   76.39KiB in 00:00:00 at 263.76KiB/s \n",
            "[Merger] Merging formats into \"5 second ka comedy [fdL3hQpikcY].webm\"\n",
            "Deleting original file 5 second ka comedy [fdL3hQpikcY].f244.webm (pass -k to keep)\n",
            "Deleting original file 5 second ka comedy [fdL3hQpikcY].f251.webm (pass -k to keep)\n",
            "Title : 5 second ka comedy\n",
            "Views : 30804\n",
            "Duration : 6\n",
            "Description : \n"
          ]
        }
      ],
      "source": [
        "#!pip install yt-dlp\n",
        "import yt_dlp\n",
        "\n",
        "link = input(\"Enter youtube video URL: \")\n",
        "\n",
        "ydl_opts = {}\n",
        "with yt_dlp.YoutubeDL(ydl_opts) as ydl:\n",
        "    info_dict = ydl.extract_info(link, download=True)\n",
        "\n",
        "    # Accessing video details\n",
        "    title = info_dict.get('title', None)\n",
        "    views = info_dict.get('view_count', None)\n",
        "    duration = info_dict.get('duration', None)\n",
        "    description = info_dict.get('description', None)\n",
        "\n",
        "    # Print the extracted information\n",
        "    print(\"Title :\", title)\n",
        "    print(\"Views :\", views)\n",
        "    print(\"Duration :\", duration)\n",
        "    print(\"Description :\", description)\n",
        "    # Note: Ratings are not consistently available through yt-dlp\n",
        "    #print(\"Ratings :\", info_dict.get('average_rating', None))"
      ]
    }
  ]
}